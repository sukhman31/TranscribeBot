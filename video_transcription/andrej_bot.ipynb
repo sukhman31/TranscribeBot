{
 "cells": [
  {
   "cell_type": "code",
   "execution_count": 5,
   "metadata": {},
   "outputs": [],
   "source": [
    "from langchain.text_splitter import RecursiveCharacterTextSplitter\n",
    "from langchain.document_loaders import TextLoader\n",
    "from langchain.vectorstores import Chroma"
   ]
  },
  {
   "cell_type": "code",
   "execution_count": 16,
   "metadata": {},
   "outputs": [],
   "source": [
    "filenames = ['andrej_karpathy.txt','andrej_karpathy1.txt',\n",
    "             'andrej_karpathy2.txt','andrej_karpathy3.txt',\n",
    "             'andrej_karpathy4.txt','andrej_karpathy5.txt',\n",
    "             'andrej_karpathy6.txt']\n",
    "with open('final_file', 'w') as outfile:\n",
    "    for fname in filenames:\n",
    "        with open(fname) as infile:\n",
    "            for line in infile:\n",
    "                outfile.write(line)"
   ]
  },
  {
   "cell_type": "code",
   "execution_count": 37,
   "metadata": {},
   "outputs": [
    {
     "name": "stderr",
     "output_type": "stream",
     "text": [
      "Using embedded DuckDB without persistence: data will be transient\n",
      "No embedding_function provided, using default embedding function: SentenceTransformerEmbeddingFunction\n"
     ]
    }
   ],
   "source": [
    "loader = TextLoader('final_file')\n",
    "docs = loader.load()\n",
    "text_splitter = RecursiveCharacterTextSplitter(chunk_size=500,chunk_overlap=0)\n",
    "docs = text_splitter.split_documents(docs)\n",
    "db = Chroma.from_documents(docs)"
   ]
  },
  {
   "cell_type": "code",
   "execution_count": 52,
   "metadata": {},
   "outputs": [],
   "source": [
    "query = \"What is a neural network?\"\n",
    "ans = db.similarity_search(query,k=5)"
   ]
  },
  {
   "cell_type": "code",
   "execution_count": 54,
   "metadata": {},
   "outputs": [
    {
     "name": "stdout",
     "output_type": "stream",
     "text": [
      "neural networks are just a mathematical\n",
      "expression they take the input data as\n",
      "an input and they take the weights of a\n",
      "neural network as an input and it's a\n",
      "mathematical expression and the output\n",
      "are your predictions of your neural net\n",
      "or the loss function we'll see this in a\n",
      "bit but basically neural networks just\n",
      "happen to be a certain class of\n",
      "mathematical expressions\n",
      "but back propagation is actually\n",
      "significantly more general it doesn't\n",
      "actually care about neural networks at\n"
     ]
    }
   ],
   "source": [
    "print(ans[0].page_content)"
   ]
  },
  {
   "cell_type": "code",
   "execution_count": null,
   "metadata": {},
   "outputs": [],
   "source": []
  }
 ],
 "metadata": {
  "kernelspec": {
   "display_name": "Python 3",
   "language": "python",
   "name": "python3"
  },
  "language_info": {
   "codemirror_mode": {
    "name": "ipython",
    "version": 3
   },
   "file_extension": ".py",
   "mimetype": "text/x-python",
   "name": "python",
   "nbconvert_exporter": "python",
   "pygments_lexer": "ipython3",
   "version": "3.10.5"
  },
  "orig_nbformat": 4
 },
 "nbformat": 4,
 "nbformat_minor": 2
}
